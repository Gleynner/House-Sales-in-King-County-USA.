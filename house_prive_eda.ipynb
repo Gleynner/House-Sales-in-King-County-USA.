{
 "cells": [
  {
   "cell_type": "markdown",
   "id": "6faa8680-e216-46e6-b308-91a9addef85d",
   "metadata": {},
   "source": [
    "# House Sales in King County, USA\n",
    "\n",
    "https://www.kaggle.com/datasets/harlfoxem/housesalesprediction/data"
   ]
  },
  {
   "cell_type": "markdown",
   "id": "ed7b6395-c82f-4cc5-bfbf-0fd0ba022334",
   "metadata": {},
   "source": [
    "Temos 21 colunas no conjunto de dados, conforme segue:\n",
    "\n",
    "- **id:** Identificação única de cada imóvel.\n",
    "- **date:** Data em que a venda foi registrada.\n",
    "- **price:** Preço de venda do imóvel (em dólares).\n",
    "- **bedrooms:** Número de quartos no imóvel.\n",
    "- **bathrooms:**  Número de banheiros no imóvel (pode incluir frações, como 0.5 para lavabo).\n",
    "- **sqft living:** Área habitável do imóvel (em pés quadrados).\n",
    "- **sqft lot:** Área total do lote do imóvel (em pés quadrados).\n",
    "- **floors:** Número de andares (pavimentos) do imóvel.\n",
    "- **waterfront:**  Indica se o imóvel possui vista para a água (1 = sim, 0 = não).\n",
    "- **view:** Índice de qualidade da vista (0 a 4).\n",
    "- **condition:** Índice de condição geral do imóvel (1 = muito ruim, 5 = excelente).\n",
    "- **grade:** Qualidade da construção e design (escala de 1 a 13, com base em padrões de avaliação locais).\n",
    "- **sqft above:** Área habitável acima do solo (em pés quadrados).\n",
    "- **sqft basement:** Área habitável no porão (em pés quadrados).\n",
    "- **yr built:** Ano em que o imóvel foi construído.\n",
    "- **yr renovated:** Ano em que o imóvel foi reformado (0 se nunca foi reformado).\n",
    "- **zipcode:** CEP do imóvel, indicando a região dentro do condado.\n",
    "- **lat:** Latitude da localização do imóvel (coordenada geográfica).\n",
    "- **long:** Longitude da localização do imóvel (coordenada geográfica).\n",
    "- **sqft living15:** Área habitável média dos 15 imóveis mais próximos (em pés quadrados).\n",
    "- **sqft lot15:** Área do lote média dos 15 imóveis mais próximos (em pés quadrados)."
   ]
  },
  {
   "cell_type": "code",
   "execution_count": null,
   "id": "547d9a4b-d76f-4404-a98e-bf65219398f2",
   "metadata": {},
   "outputs": [],
   "source": [
    "import pandas as pd\n",
    "import numpy as np\n",
    "import matplotlib.pyplot as plt\n",
    "import seaborn as sns\n",
    "import plotly.express as px\n",
    "\n",
    "import os\n",
    "\n",
    "# Exibe o diretório de trabalho atual\n",
    "#print(os.getcwd())"
   ]
  },
  {
   "cell_type": "code",
   "execution_count": null,
   "id": "941a2284-0389-458c-a8d6-64a92348bb48",
   "metadata": {},
   "outputs": [],
   "source": [
    "# Alterar o formato global para notação padrão com 6 casas decimais\n",
    "pd.options.display.float_format = '{:.2f}'.format\n",
    "\n",
    "\n",
    "# Restaurar o formato original\n",
    "#pd.reset_option('display.float_format')"
   ]
  },
  {
   "cell_type": "markdown",
   "id": "ce1af4ca-c7f6-4939-8970-a2a8f4be6d8e",
   "metadata": {},
   "source": [
    "## Carregar o conjunto de dados"
   ]
  },
  {
   "cell_type": "code",
   "execution_count": null,
   "id": "bde941bc-f2c9-41bb-8a8b-40c16256bcf3",
   "metadata": {},
   "outputs": [],
   "source": [
    "df = pd.read_csv('archive/kc_house_data.csv')\n",
    "df.head()"
   ]
  },
  {
   "cell_type": "markdown",
   "id": "8f1a984b-225d-4a79-8263-14cb5c324fb1",
   "metadata": {},
   "source": [
    "## Informações básicas sobre o conjunto de dados"
   ]
  },
  {
   "cell_type": "markdown",
   "id": "46854311-5c5e-47a1-95b6-11053c34e372",
   "metadata": {},
   "source": [
    "#### Dimensado do dataset"
   ]
  },
  {
   "cell_type": "code",
   "execution_count": null,
   "id": "4ad1a53a-d550-454d-bbd0-690b2b5a6fcc",
   "metadata": {},
   "outputs": [],
   "source": [
    "print(f'Número de linhas: {df.shape[0]}  \\nNúmero de colunas: {df.shape[1]}')"
   ]
  },
  {
   "cell_type": "markdown",
   "id": "6d478322-60fe-46cb-9ea0-12c212c87a81",
   "metadata": {},
   "source": [
    "#### Exibir os tipos de dados de cada coluna do nosso conjunto de dados"
   ]
  },
  {
   "cell_type": "code",
   "execution_count": null,
   "id": "48f8f6a8-8f54-41a8-9d6a-1697a54c5df9",
   "metadata": {},
   "outputs": [],
   "source": [
    "df.dtypes"
   ]
  },
  {
   "cell_type": "markdown",
   "id": "e515acd8-6896-4661-94a2-18c22fd203ec",
   "metadata": {},
   "source": [
    "Aparentemente todas as variáveis apresentam formato adequado, exceto a variável \"date\", que iremos converter adiante para uma forma de data mais legível."
   ]
  },
  {
   "cell_type": "markdown",
   "id": "594f2799-eb59-4cf2-8bd1-f85ec8fbbb3b",
   "metadata": {},
   "source": [
    "#### Resumo estatístico dos dados"
   ]
  },
  {
   "cell_type": "code",
   "execution_count": null,
   "id": "64d1cc4e-f2c9-46b5-a6e9-4782e40501af",
   "metadata": {},
   "outputs": [],
   "source": [
    "colunas_de_interesse = [col for col in df.select_dtypes(include = ['int64','float64']) if col not in ['zipcode','lat','long']]\n",
    "\n",
    "df[colunas_de_interesse].describe().T"
   ]
  },
  {
   "cell_type": "markdown",
   "id": "30e7a882-3c46-41e8-ae00-215a03a274cf",
   "metadata": {},
   "source": [
    "## Data Wrangling\n",
    "\n",
    "Data Wrangling, também chamado de data cleaning ou data preprocessing, é o processo de preparar dados brutos para análise. Ele envolve transformar, limpar e organizar os dados para que estejam em um formato adequado para extração de informações úteis, geração de relatórios ou desenvolvimento de modelos de aprendizado de máquina."
   ]
  },
  {
   "cell_type": "markdown",
   "id": "5704b987-05d9-4dde-89d6-da34506727bd",
   "metadata": {},
   "source": [
    "#### Conversão de tipos de variáveis"
   ]
  },
  {
   "cell_type": "code",
   "execution_count": null,
   "id": "75beadf1-8007-4419-9fad-3ec4a515de38",
   "metadata": {},
   "outputs": [],
   "source": [
    "df['date'] = pd.to_datetime(df['date'])"
   ]
  },
  {
   "cell_type": "code",
   "execution_count": null,
   "id": "bd0c7410-2ef0-4cc5-ae7a-d0eb404a2157",
   "metadata": {},
   "outputs": [],
   "source": [
    "df['date'].info()"
   ]
  },
  {
   "cell_type": "markdown",
   "id": "48b150cf-bc5a-41eb-96af-52b7c40a2f90",
   "metadata": {},
   "source": [
    "#### Remover coluna \"id\"\n",
    "\n",
    "Tal coluna não será relebante para nossa análise."
   ]
  },
  {
   "cell_type": "code",
   "execution_count": null,
   "id": "a85c78ab-4c2f-420d-ba85-2152505ef5d2",
   "metadata": {},
   "outputs": [],
   "source": [
    "df.drop(labels = 'id', axis=1, inplace=True)"
   ]
  },
  {
   "cell_type": "markdown",
   "id": "7a84c309-15e1-4d8c-b6a9-e3b080886588",
   "metadata": {},
   "source": [
    "#### Existe valores (nulos) ausentes e/ou valores duplicados?"
   ]
  },
  {
   "cell_type": "code",
   "execution_count": null,
   "id": "cf28ed1c-fb04-4150-b26b-ac83f3323706",
   "metadata": {},
   "outputs": [],
   "source": [
    "df.isnull().sum()"
   ]
  },
  {
   "cell_type": "code",
   "execution_count": null,
   "id": "bf141dfc-06e4-482a-a85a-1ab236bbeb0d",
   "metadata": {},
   "outputs": [],
   "source": [
    "df.duplicated().sum()"
   ]
  },
  {
   "cell_type": "markdown",
   "id": "9b11b2fe-b0ab-4272-9d63-82e90f0199b4",
   "metadata": {},
   "source": [
    "O nosso conjunto de dados não possui valores nulos nem valores duplicados."
   ]
  },
  {
   "cell_type": "markdown",
   "id": "d582e65c-b62a-4eca-a3ec-23af56966548",
   "metadata": {},
   "source": [
    "#### Converter variáveis de dimensões dos imóveis de pés quadrado para metros quadrado\n",
    "\n",
    "Trabalhar com unidade de medida em metros facilita o entendimento do nosso case.\n",
    "\n",
    "Temos que :    $$ 1 ft^2 = 0,0929 m^2 $$\n",
    "\n",
    "Portanto, nossa fórmula de conversão será:\n",
    "\n",
    "$$ Metros Quadrados = Pés Quadrados/10,7639$$"
   ]
  },
  {
   "cell_type": "code",
   "execution_count": null,
   "id": "2895cdc0-e4f9-40af-8c2e-bc75fdc3d4ba",
   "metadata": {},
   "outputs": [],
   "source": [
    "divisor_conversao = 10.7639"
   ]
  },
  {
   "cell_type": "code",
   "execution_count": null,
   "id": "1147afc3-e588-4b86-87e8-fbd95fa65305",
   "metadata": {},
   "outputs": [],
   "source": [
    "df['sqft_living'] = (df['sqft_living']/divisor_conversao).round(2)\n",
    "df['sqft_lot'] = (df['sqft_lot']/divisor_conversao).round(2)\n",
    "df['sqft_above'] = (df['sqft_above']/divisor_conversao).round(2)\n",
    "df['sqft_basement'] = (df['sqft_basement']/divisor_conversao).round(2)"
   ]
  },
  {
   "cell_type": "code",
   "execution_count": null,
   "id": "29430f31-6d8a-47e0-a1a8-012b8bc0039b",
   "metadata": {},
   "outputs": [],
   "source": [
    "df['sqft_living15'] = (df['sqft_living15']/divisor_conversao).round(2)\n",
    "df['sqft_lot15'] = (df['sqft_lot15']/divisor_conversao).round(2)"
   ]
  },
  {
   "cell_type": "code",
   "execution_count": null,
   "id": "0b1c4615-5be4-46e9-a5f7-8937ec8594fd",
   "metadata": {},
   "outputs": [],
   "source": [
    "variaveis_de_dimensoes = ['sqft_living', 'sqft_lot', 'sqft_above', 'sqft_basement', 'sqft_living15', 'sqft_lot15']\n",
    "\n",
    "df[variaveis_de_dimensoes].describe().round(2).T"
   ]
  },
  {
   "cell_type": "markdown",
   "id": "12177c95-9be4-4105-81d8-54ab99536570",
   "metadata": {},
   "source": [
    "## Análise Exploratória dos dados"
   ]
  },
  {
   "cell_type": "code",
   "execution_count": null,
   "id": "0f25c454-513e-4572-84b9-5059c982e224",
   "metadata": {},
   "outputs": [],
   "source": [
    "df.head()"
   ]
  },
  {
   "cell_type": "markdown",
   "id": "ce5d9455-ce25-4c64-b306-ce993c780ea2",
   "metadata": {},
   "source": [
    "#### Distribuição das variáveis do nosso conjunto de dados"
   ]
  },
  {
   "cell_type": "code",
   "execution_count": null,
   "id": "1d13d799-8a59-468d-a622-84326ab327c0",
   "metadata": {},
   "outputs": [],
   "source": [
    "# Atualizar comando pois a coluna \"id\" não é de nosso interesse\n",
    "colunas_de_interesse = [col for col in df.select_dtypes(include = ['int64','float64']) if col not in ['zipcode','lat','long']]"
   ]
  },
  {
   "cell_type": "code",
   "execution_count": null,
   "id": "4f957921-2e8d-4c4b-a8bd-ae9c7527d026",
   "metadata": {},
   "outputs": [],
   "source": [
    "# Criar uma figura com uma grade de subplots\n",
    "fig, axes = plt.subplots(2, 4, figsize=(9, 4), facecolor = '#fbf5e7')\n",
    "\n",
    "# Iterar sobre cada subplot e os dados correspondentes usando axes.flat\n",
    "for ax, num in zip(axes.flat, range(len(colunas_de_interesse[0:8]))):\n",
    "    sns.histplot(df[colunas_de_interesse[num]],bins = 75, kde=False, ax=ax)\n",
    "    ax.set_xlabel(\"Valor\")\n",
    "    ax.set_ylabel(\"Frequência\")\n",
    "    ax.set_title(f'{colunas_de_interesse[num]}')\n",
    "\n",
    "# Ajustar o layout\n",
    "plt.tight_layout()\n",
    "plt.show()"
   ]
  },
  {
   "cell_type": "code",
   "execution_count": null,
   "id": "232e9e50-7a5c-4724-9f9a-273e1ee20e01",
   "metadata": {},
   "outputs": [],
   "source": [
    "# Criar uma figura com uma grade de subplots\n",
    "fig, axes = plt.subplots(2, 4, figsize=(9, 4), facecolor = '#fbf5e7')\n",
    "\n",
    "# Iterar sobre cada subplot e os dados correspondentes usando axes.flat\n",
    "for ax, num in zip(axes.flat, range(8,len(colunas_de_interesse))):\n",
    "    sns.histplot(df[colunas_de_interesse[num]],bins = 75, kde=False, ax=ax)\n",
    "    ax.set_xlabel(\"Valor\")\n",
    "    ax.set_ylabel(\"Frequência\")\n",
    "    ax.set_title(f'{colunas_de_interesse[num]}')\n",
    "\n",
    "# Ajustar o layout\n",
    "plt.tight_layout()\n",
    "plt.show()"
   ]
  },
  {
   "cell_type": "markdown",
   "id": "6b0be205-1a0d-4836-aae8-84926c065156",
   "metadata": {},
   "source": [
    "- Price"
   ]
  },
  {
   "cell_type": "code",
   "execution_count": null,
   "id": "24f80aff-2057-4613-a146-5236122b6883",
   "metadata": {},
   "outputs": [],
   "source": [
    "df['price'].describe()"
   ]
  },
  {
   "cell_type": "code",
   "execution_count": null,
   "id": "5e52e7c8-b9a4-4062-91d2-d9c6c4376fd1",
   "metadata": {},
   "outputs": [],
   "source": [
    "plt.figure(figsize=(5,3))\n",
    "sns.boxplot(df['price'], orient='h')\n",
    "plt.show()"
   ]
  },
  {
   "cell_type": "code",
   "execution_count": null,
   "id": "33addf35-1b18-40e1-8df7-ccaf2c0c5d80",
   "metadata": {},
   "outputs": [],
   "source": [
    "#np.percentile(df['price'], 95)"
   ]
  },
  {
   "cell_type": "code",
   "execution_count": null,
   "id": "2b618d55-e8fc-42c6-bad1-9cf4e9bc61b9",
   "metadata": {},
   "outputs": [],
   "source": [
    "df.loc[df['price'] > 5000000]"
   ]
  },
  {
   "cell_type": "markdown",
   "id": "fd35b56c-57f5-4cb3-add7-53084b3c4f99",
   "metadata": {},
   "source": [
    "As caracteristicas dos imóveis (como View, Condition, Grade e demais aspectos) parecem ser coerentes com o preço. Imóveis antigos com boa qualidade de construção e design e com boas condições gerais são bem avaliados, tendo grande valor agregado.\n",
    "<br>\n",
    "<br>\n",
    "Apesar destas características poderem ser condizentes, essas observações com outliers podem gerar problemas para modelos que possuem distribuição normal como pressuposição."
   ]
  },
  {
   "cell_type": "markdown",
   "id": "5bb8bac2-1c8b-4382-9701-8f6da388e46f",
   "metadata": {},
   "source": [
    "- Bedrooms"
   ]
  },
  {
   "cell_type": "code",
   "execution_count": null,
   "id": "cc175c1c-c65b-4e4b-9af4-27ed85bb87b0",
   "metadata": {},
   "outputs": [],
   "source": [
    "df['bedrooms'].value_counts().to_frame().sort_values(by='bedrooms').T"
   ]
  },
  {
   "cell_type": "code",
   "execution_count": null,
   "id": "41a21f83-e7ba-468d-af5b-fffb0a5ee6e6",
   "metadata": {},
   "outputs": [],
   "source": [
    "df.loc[df['bedrooms'] == 33]"
   ]
  },
  {
   "cell_type": "markdown",
   "id": "c0523089-0bd3-4dda-9cbd-e8f6120afdf4",
   "metadata": {},
   "source": [
    "É improvável que um imóvel de 150 metros quadrados de área habitavel tenha 33 quartos em um único andar e apenas um banheiro completo e outro quase completo para atender todos os \"hospedes\" simultaneamente. Portanto, vamos remover esta linha de nosso conjunto de dados."
   ]
  },
  {
   "cell_type": "code",
   "execution_count": null,
   "id": "2bcfb675-518d-4cbc-86f0-0815d88b013b",
   "metadata": {},
   "outputs": [],
   "source": [
    "df.drop(np.where(df['bedrooms'] == 33)[0], axis=0, inplace=True)"
   ]
  },
  {
   "cell_type": "code",
   "execution_count": null,
   "id": "50189edc-f1de-4a94-8f0e-aca1b19996d8",
   "metadata": {},
   "outputs": [],
   "source": [
    "df.loc[(df['bedrooms'].isin([9,10,11]))]"
   ]
  },
  {
   "cell_type": "markdown",
   "id": "80cfbbbf-1bea-4580-8a8a-c4c908f235c0",
   "metadata": {},
   "source": [
    "A metragem quadrada para os demais números de quartos parece ser coerente, portanto, vamos manter."
   ]
  },
  {
   "cell_type": "code",
   "execution_count": null,
   "id": "67e2f4dd-7616-4c6e-813b-341b73198d69",
   "metadata": {},
   "outputs": [],
   "source": [
    "plt.figure(figsize=(10,4))\n",
    "plt.subplot(1,2,1)\n",
    "sns.countplot(data=df, x='bedrooms', color = '#021841ff')\n",
    "plt.subplot(1,2,2)\n",
    "sns.boxplot(data=df, x='bedrooms', y='price')\n",
    "plt.show()"
   ]
  },
  {
   "cell_type": "code",
   "execution_count": null,
   "id": "95107142-bdbd-4f19-a49f-34935981d65a",
   "metadata": {},
   "outputs": [],
   "source": []
  },
  {
   "cell_type": "markdown",
   "id": "c3c80410-0e84-4c60-bd61-73865700ba75",
   "metadata": {},
   "source": [
    "- Bathrooms\n",
    "\n",
    "Os valores fracionários indicam a presença de lavabos ou banheiros parciais. Um lavabo é um banheiro que geralmente contém apenas um vaso sanitário e uma pia, sem chuveiro ou banheira.\n",
    "\n",
    "Exemplos:\n",
    "\n",
    "1.0: Um banheiro completo (com chuveiro/banheira).     <br>\n",
    "1.5: Um banheiro completo e um lavabo (1 banheiro completo + 0.5 de lavabo). <br>\n",
    "2.25: Dois banheiros completos e um lavabo pequeno (1 lavabo = 0.25).<br>\n",
    "0.75: Um banheiro quase completo (pode ter vaso sanitário, pia e um chuveiro pequeno, mas sem banheira).<br>\n",
    "\n",
    "A fracionária é usada para refletir a funcionalidade do banheiro, atribuindo pesos aos componentes."
   ]
  },
  {
   "cell_type": "code",
   "execution_count": null,
   "id": "3c8aef0f-d2d5-46c7-ae7b-a74ae8ed0ce4",
   "metadata": {},
   "outputs": [],
   "source": [
    "np.sort(df['bathrooms'].unique())"
   ]
  },
  {
   "cell_type": "code",
   "execution_count": null,
   "id": "92571a32-487f-40c4-b4ec-0bd48cd0cf8e",
   "metadata": {},
   "outputs": [],
   "source": [
    "df['bathrooms'].value_counts().to_frame().sort_values(by='bathrooms').T"
   ]
  },
  {
   "cell_type": "code",
   "execution_count": null,
   "id": "f8eb38f4-e9f8-4225-97f9-8fe4ad0b01d2",
   "metadata": {},
   "outputs": [],
   "source": [
    "plt.figure(figsize=(7,5.5))\n",
    "sns.countplot(y = 'bathrooms', data = df, color = '#021841ff')\n",
    "plt.show()"
   ]
  },
  {
   "cell_type": "code",
   "execution_count": null,
   "id": "47e8d39c-e802-4e23-b08c-c023fb11bedc",
   "metadata": {},
   "outputs": [],
   "source": [
    "df.loc[df['bathrooms'] == 8]"
   ]
  },
  {
   "cell_type": "markdown",
   "id": "10c32531-8d31-4672-8d3d-fb949376626d",
   "metadata": {},
   "source": [
    "A quantidade de quartos é condizente com a metragem o imóvel."
   ]
  },
  {
   "cell_type": "markdown",
   "id": "2008136e-5fcb-40e6-a29b-1567c48b10d0",
   "metadata": {},
   "source": [
    "- Sqft_living"
   ]
  },
  {
   "cell_type": "code",
   "execution_count": null,
   "id": "8448e2ca-2863-4feb-a17b-ca19b10edd19",
   "metadata": {},
   "outputs": [],
   "source": [
    "plt.figure(figsize=(5,3))\n",
    "sns.boxplot(df['sqft_living'], orient='h')\n",
    "plt.show()"
   ]
  },
  {
   "cell_type": "code",
   "execution_count": null,
   "id": "211fbfee-b9b1-416f-9ba8-9bafeaa001e4",
   "metadata": {},
   "outputs": [],
   "source": [
    "df.loc[df['sqft_living' ] > 1000]"
   ]
  },
  {
   "cell_type": "markdown",
   "id": "8859b39f-8c13-4799-8913-b3ec0684fa68",
   "metadata": {},
   "source": [
    "- Sqft_basement"
   ]
  },
  {
   "cell_type": "code",
   "execution_count": null,
   "id": "ece17826-1631-4f29-b676-610d2769a73d",
   "metadata": {},
   "outputs": [],
   "source": [
    "plt.figure(figsize=(5,3))\n",
    "sns.boxplot(df['sqft_basement'], orient='h')\n",
    "plt.show()"
   ]
  },
  {
   "cell_type": "code",
   "execution_count": null,
   "id": "69299d91-0ae8-44f6-b017-535f8d11be12",
   "metadata": {},
   "outputs": [],
   "source": [
    "df.query('sqft_basement > 300')"
   ]
  },
  {
   "cell_type": "code",
   "execution_count": null,
   "id": "56b7dec6-40d2-49e7-939d-8ccfa40ac032",
   "metadata": {},
   "outputs": [],
   "source": [
    "df['sqft_basement'].value_counts().to_frame().sort_values(by='sqft_basement').T"
   ]
  },
  {
   "cell_type": "code",
   "execution_count": null,
   "id": "6b939deb-c523-4b93-ad82-3895de0c8420",
   "metadata": {},
   "outputs": [],
   "source": [
    "has_basement = list()\n",
    "for i in df['sqft_basement']:\n",
    "    if i == 0:\n",
    "        has_basement.append(0)\n",
    "    else:\n",
    "        has_basement .append(1)\n",
    "       \n",
    "df['has_basement'] = has_basement "
   ]
  },
  {
   "cell_type": "code",
   "execution_count": null,
   "id": "cd5b268e-401e-4c5f-b25d-fc4e1c7d71e4",
   "metadata": {},
   "outputs": [],
   "source": [
    "plt.figure(figsize=(4.5,3.5))\n",
    "sns.countplot(x = 'has_basement', data = df, width=0.35, color = '#021841ff')\n",
    "plt.show()"
   ]
  },
  {
   "cell_type": "code",
   "execution_count": null,
   "id": "4a850056-8d85-4696-a878-584a88d3fa44",
   "metadata": {},
   "outputs": [],
   "source": [
    "(df['has_basement'].value_counts()/df.shape[0])*100"
   ]
  },
  {
   "cell_type": "markdown",
   "id": "6b52fed2-1152-4a9a-b91f-8505500d1554",
   "metadata": {},
   "source": [
    "- Sqft_lot"
   ]
  },
  {
   "cell_type": "code",
   "execution_count": null,
   "id": "ad56f881-c60b-46fa-b921-a0f5c7a49099",
   "metadata": {},
   "outputs": [],
   "source": [
    "plt.figure(figsize=(8.5,3))\n",
    "sns.boxplot(df['sqft_lot'], orient='h')\n",
    "plt.show()"
   ]
  },
  {
   "cell_type": "code",
   "execution_count": null,
   "id": "8c25a74d-9a41-427f-81f4-e92a62e3d17d",
   "metadata": {},
   "outputs": [],
   "source": [
    "df.query('sqft_lot >= 65000')"
   ]
  },
  {
   "cell_type": "code",
   "execution_count": null,
   "id": "4ad8e301-86a1-424e-9da5-44abfa24508a",
   "metadata": {},
   "outputs": [],
   "source": [
    "df.query('sqft_lot >= 65000').shape"
   ]
  },
  {
   "cell_type": "markdown",
   "id": "7921f804-2031-43d3-89be-1448d3131f34",
   "metadata": {},
   "source": [
    "Temos 12 imóveis com tamanho de lote acima de 65 mil metros quadrados. As áreas internas dos apartamentos são pequenas qunado comparadas com o tamanho do lote, ou seja, grande área externa."
   ]
  },
  {
   "cell_type": "markdown",
   "id": "8f2a69f0-e130-489b-8dd1-478b90829f64",
   "metadata": {},
   "source": [
    "- Floors\n",
    "\n",
    "Os valores fracionários em floors representam pavimentos intermediários ou mezaninos. Essas estruturas podem ser níveis parciais que não se estendem por toda a área da casa.\n",
    "\n",
    "Exemplos:\n",
    "\n",
    "1.0: Uma casa com um andar completo.<br>\n",
    "1.5: Uma casa com um andar completo e um mezanino ou nível parcial.<br>\n",
    "2.0: Uma casa com dois andares completos.<br>\n"
   ]
  },
  {
   "cell_type": "code",
   "execution_count": null,
   "id": "135a9d94-bcb9-4aa0-a4c2-0d2c8b86e42d",
   "metadata": {},
   "outputs": [],
   "source": [
    "df['floors'].value_counts().to_frame().sort_values(by='floors').T"
   ]
  },
  {
   "cell_type": "code",
   "execution_count": null,
   "id": "69fbcc86-55eb-4257-93f6-296503267c48",
   "metadata": {},
   "outputs": [],
   "source": [
    "plt.figure(figsize=(4.5,3.5))\n",
    "sns.countplot(y = 'floors', data = df, width=0.35, color = '#021841ff')\n",
    "plt.show()"
   ]
  },
  {
   "cell_type": "code",
   "execution_count": null,
   "id": "4c326d7b-fc44-47f9-be5b-1f0866ddd563",
   "metadata": {},
   "outputs": [],
   "source": [
    "(df['floors'].value_counts().to_frame().sort_values(by='floors')['count'])/(df['floors'].value_counts().to_frame()['count'].sum())*100"
   ]
  },
  {
   "cell_type": "markdown",
   "id": "13df2199-379b-4e34-82f0-e0c91adcb32d",
   "metadata": {},
   "source": [
    "87,54% dos imóveis possuem 1 ou 2 andares completos, isto é, sem mezaninos ou níveis parciais."
   ]
  },
  {
   "cell_type": "markdown",
   "id": "a3283b2e-5c26-4cc5-80aa-d97b3d49c298",
   "metadata": {},
   "source": [
    "- Condition"
   ]
  },
  {
   "cell_type": "code",
   "execution_count": null,
   "id": "3065e009-ab07-41dd-8d9b-33438d6cd054",
   "metadata": {},
   "outputs": [],
   "source": [
    "plt.figure(figsize=(10,4))\n",
    "plt.subplot(1,2,1)\n",
    "sns.countplot(data=df, x='condition', color = '#021841ff')\n",
    "plt.subplot(1,2,2)\n",
    "sns.boxplot(data=df, x='condition', y='price')\n",
    "plt.show()"
   ]
  },
  {
   "cell_type": "markdown",
   "id": "8fec4dfd-2358-41a6-93b2-fe11fb804006",
   "metadata": {},
   "source": [
    "Imóveis com condições intermediárias, como, as de classificação 3 e 4, possuem valores de outliers mais altos do que imóveis mais bem avaliados. Isso implica que as avaliações não existe um padrão bem definido.\n",
    "<br>\n",
    "Contudo, observando **dentro dos limites inferiores e superiores**, os imóveis com classificação 3 e 4 possuem mesmo configuração de distribuição para o 1° quartil, mediana e 3° quartil. Já os imóveis de classificação 5 tem o simite superior levemente maior que os demais. Os imóveis com classificação 1 2 dois também apresentão configurações parecidas para o intervalo interquartil e seus limites.\n",
    "<br>\n",
    "Tais características implicam não haver um critério bem definido para as avaliações dos imóveis. Assim, a maior diferenciação é dada pelos valores outlires."
   ]
  },
  {
   "cell_type": "markdown",
   "id": "543c02b7-f324-415b-95f3-0dbdcdcf8f78",
   "metadata": {},
   "source": [
    "- Waterfront"
   ]
  },
  {
   "cell_type": "code",
   "execution_count": null,
   "id": "9b3a97e5-1434-4c6e-8529-22d926d6d65a",
   "metadata": {},
   "outputs": [],
   "source": [
    "df['waterfront'].value_counts().to_frame().T"
   ]
  },
  {
   "cell_type": "markdown",
   "id": "52c86a0b-2fb7-449e-aaab-1b0738bd8ffb",
   "metadata": {},
   "source": [
    "Menos de 1% dos imóveis tem vista para água."
   ]
  },
  {
   "cell_type": "markdown",
   "id": "f5d98af3-fd6e-44d3-8427-7c01bc40cf8b",
   "metadata": {},
   "source": [
    "- View"
   ]
  },
  {
   "cell_type": "code",
   "execution_count": null,
   "id": "27333a5a-98b5-4abf-aaec-c89a62fe90b6",
   "metadata": {},
   "outputs": [],
   "source": [
    "plt.figure(figsize=(10,4))\n",
    "plt.subplot(1,2,1)\n",
    "sns.countplot(data=df, x='view', color = '#021841ff')\n",
    "plt.subplot(1,2,2)\n",
    "sns.boxplot(data=df, x='view', y='price')\n",
    "plt.show()"
   ]
  },
  {
   "cell_type": "code",
   "execution_count": null,
   "id": "c4b1842b-746e-42dd-8329-f3cf1149828e",
   "metadata": {},
   "outputs": [],
   "source": [
    "df['view'].value_counts().to_frame().sort_values(by='view').T"
   ]
  },
  {
   "cell_type": "markdown",
   "id": "697ee02f-4452-4b9e-b5ac-cab24ba1cabf",
   "metadata": {},
   "source": [
    "Já para a avaliação da vista dos imóveis é bem mais claro que vistas melhores são mais bem recompensadas."
   ]
  },
  {
   "cell_type": "markdown",
   "id": "01e1cd8e-3ab4-47af-80c2-aa72f6fcbb5b",
   "metadata": {},
   "source": [
    "- Grade"
   ]
  },
  {
   "cell_type": "code",
   "execution_count": null,
   "id": "9a95a787-0a4a-4ce1-83c4-2650aed09416",
   "metadata": {},
   "outputs": [],
   "source": [
    "df['grade'].value_counts().to_frame().sort_values(by='grade').T"
   ]
  },
  {
   "cell_type": "code",
   "execution_count": null,
   "id": "dbf13db1-32a1-4039-80b5-738e160180b5",
   "metadata": {},
   "outputs": [],
   "source": [
    "plt.figure(figsize=(10,4))\n",
    "plt.subplot(1,2,1)\n",
    "sns.countplot(data=df, x='grade', color = '#021841ff')\n",
    "plt.subplot(1,2,2)\n",
    "sns.boxplot(data=df, x='grade', y='price')\n",
    "plt.show()"
   ]
  },
  {
   "cell_type": "markdown",
   "id": "c7d44840-939e-4c45-9c68-f47ffbb97771",
   "metadata": {},
   "source": [
    "A medida que a qualidade da construção e design são mais bem avaliadas aumenta também o valor de venda dos imóveis."
   ]
  },
  {
   "cell_type": "markdown",
   "id": "e10719c6-8b68-439e-b309-ebfdbcb81ba3",
   "metadata": {},
   "source": [
    "- yr_renovated"
   ]
  },
  {
   "cell_type": "code",
   "execution_count": null,
   "id": "6c1b951b-6374-4312-a2c7-98df8aaadb99",
   "metadata": {},
   "outputs": [],
   "source": [
    "df['yr_renovated'].value_counts().to_frame().sort_values(by='yr_renovated').T"
   ]
  },
  {
   "cell_type": "code",
   "execution_count": null,
   "id": "c1377e55-3303-4496-8be0-6ba543fee84c",
   "metadata": {},
   "outputs": [],
   "source": [
    "((20698/df['yr_renovated'].value_counts().to_frame()['count'].sum())*100).round(2)"
   ]
  },
  {
   "cell_type": "markdown",
   "id": "e9659dfb-f2e3-49a5-89a6-874451177281",
   "metadata": {},
   "source": [
    "95,77% dos imóveis nunca passaram por reforma, apesar de 50% do total de imóveis possuir mais de 40 anos de construção.  "
   ]
  },
  {
   "cell_type": "code",
   "execution_count": null,
   "id": "c1a9901b-14af-4024-b285-839a02ac432a",
   "metadata": {},
   "outputs": [],
   "source": [
    "plt.figure(figsize=(5,3))\n",
    "sns.histplot(data=df, x='yr_renovated')\n",
    "plt.show()"
   ]
  },
  {
   "cell_type": "code",
   "execution_count": null,
   "id": "01b8e51d-dd1e-45f0-902f-6bb189376193",
   "metadata": {},
   "outputs": [],
   "source": [
    "yr_reforma = list()\n",
    "for i in df['yr_renovated']:\n",
    "    if i == 0:\n",
    "        yr_reforma.append(0)\n",
    "    else:\n",
    "        yr_reforma .append(1)\n",
    "       \n",
    "df['has_renovated'] = yr_reforma "
   ]
  },
  {
   "cell_type": "code",
   "execution_count": null,
   "id": "923566f3-d27f-4e71-a158-b4021515ed5a",
   "metadata": {},
   "outputs": [],
   "source": [
    "plt.figure(figsize=(5,3))\n",
    "sns.histplot(data=df, x='has_renovated')\n",
    "plt.show()"
   ]
  },
  {
   "cell_type": "markdown",
   "id": "cfc63933-b5e6-46aa-b297-0935510593e8",
   "metadata": {},
   "source": [
    "#### Coeficiente de correlação"
   ]
  },
  {
   "cell_type": "code",
   "execution_count": null,
   "id": "351380a4-9cc3-4082-9818-f4a5224d1ebf",
   "metadata": {},
   "outputs": [],
   "source": [
    "colunas_de_interesse = [col for col in df.select_dtypes(include = ['int64','float64']) if col not in ['zipcode','lat','long']]\n",
    "colunas_de_interesse"
   ]
  },
  {
   "cell_type": "code",
   "execution_count": null,
   "id": "f05bb27e-3317-4a83-baae-bd67dd5a545b",
   "metadata": {},
   "outputs": [],
   "source": [
    "coolwarm_cmap = plt.colormaps['coolwarm']\n",
    "coolwarm = [coolwarm_cmap(i/255) for i in range(256)]\n",
    "coolwarm_colors = [f\"rgba({int(r*255)}, {int(g*255)}, {int(b*255)}, {a})\" for r, g, b, a in coolwarm]\n",
    "\n",
    "cor = df[colunas_de_interesse].corr().round(2)\n",
    "mask = np.triu(np.ones_like(cor, dtype=bool))\n",
    "cor = cor.mask(mask)\n",
    "\n",
    "fig = px.imshow(\n",
    "    cor,\n",
    "    text_auto=True,\n",
    "    aspect=\"auto\",\n",
    "    height= 550,\n",
    "    width=1000,\n",
    "    color_continuous_scale=coolwarm_colors,\n",
    "    labels=dict(color=\"Correlação\"),\n",
    "    title='Correlação entre variáveis'\n",
    ")\n",
    "\n",
    "fig.update_layout(plot_bgcolor='#fbf5e7')\n",
    "fig.show()"
   ]
  },
  {
   "cell_type": "markdown",
   "id": "dcdd0577-ea71-46d0-90bc-bb87183d0dab",
   "metadata": {},
   "source": [
    "- Observações:\n",
    "\n",
    "1. **sqft_living** tem correlação FORTE com **sqft_above**.            \n",
    "2. **sqft_living** tem correlação FORTE com **sqft_living15**.           \n",
    "3. **sqft_living** tem correlação FORTE com **grade**.                \n",
    "4. **sqft_living** tem correlação FORTE com **bathrooms**.\n",
    "5. **sqft_living** tem correlação MODERADA com **bedrooms**.          \n",
    "6. **sqft_lot** tem correlação FORTE com **sqft_lot15**.              \n",
    "7. **sqft_above** tem correlação FORTE com **sqft_lot15**.\n",
    "8. **sqft_living15** tem correlação FORTE com **grade**.\n",
    "9. **sqft_above** tem correlação FORTE com **grade**.\n",
    "10. **sqft_above** tem correlação MODERADA com **bathrooms**.\n",
    "11. **bathrooms** tem correlação MODERADA com **grade**.\n",
    "12. **bathrooms** tem correlação MODERADA com **sqft_living15**.\n",
    "13. **yr_built** tem correlação MODERADA com **bathrooms**.\n",
    "14. **yr_built** tem correlação NEGATIVA FRACA com **condition**.\n",
    "15. **bathrooms** tem correlação MODERADA com **bedrooms**.\n",
    "16. **bathrooms** tem correlação MODERADA com **floors**.\n",
    "17. **floors** tem correlação NEGATIVA FRACA com **condition**.\n",
    "19. **floors** tem correlação NEGATIVA FRACA com **sqft_basement**."
   ]
  },
  {
   "cell_type": "code",
   "execution_count": null,
   "id": "e22b9c09-3128-49ca-8050-64cf2cda6832",
   "metadata": {},
   "outputs": [],
   "source": []
  }
 ],
 "metadata": {
  "kernelspec": {
   "display_name": "Python 3 (ipykernel)",
   "language": "python",
   "name": "python3"
  },
  "language_info": {
   "codemirror_mode": {
    "name": "ipython",
    "version": 3
   },
   "file_extension": ".py",
   "mimetype": "text/x-python",
   "name": "python",
   "nbconvert_exporter": "python",
   "pygments_lexer": "ipython3",
   "version": "3.9.13"
  }
 },
 "nbformat": 4,
 "nbformat_minor": 5
}
